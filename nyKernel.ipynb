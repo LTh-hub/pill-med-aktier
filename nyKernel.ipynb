{
 "cells": [
  {
   "cell_type": "code",
   "execution_count": 9,
   "id": "bc184bd0-865e-4df6-ab9c-3f6cc6ebff53",
   "metadata": {},
   "outputs": [
    {
     "name": "stdout",
     "output_type": "stream",
     "text": [
      "3.12.7 | packaged by Anaconda, Inc. | (main, Oct  4 2024, 13:17:27) [MSC v.1929 64 bit (AMD64)]\n"
     ]
    }
   ],
   "source": [
    "\n",
    "\n",
    "#CMD> python --version\n",
    "\n",
    "import sys\n",
    "print(sys.version)"
   ]
  },
  {
   "cell_type": "code",
   "execution_count": null,
   "id": "0cc4a881-42ab-4245-af0c-a53292343185",
   "metadata": {},
   "outputs": [],
   "source": []
  },
  {
   "cell_type": "code",
   "execution_count": null,
   "id": "296b68a2-049e-48bf-808f-b1768767abb5",
   "metadata": {},
   "outputs": [],
   "source": [
    "#\n",
    "# Exempel med Europeiska aktier\n",
    "#"
   ]
  },
  {
   "cell_type": "code",
   "execution_count": null,
   "id": "e22a1d7f-ffb0-4749-a1a5-60f58d7660ec",
   "metadata": {},
   "outputs": [],
   "source": [
    "# ✅ Steg-för-steg: Hämta europeiska aktier med investpy-reborn\n",
    "# 1. Installera paketet\n",
    "# Installera investpy-reborn via pip:\n",
    "#bash> pip install investpy-reborn"
   ]
  },
  {
   "cell_type": "code",
   "execution_count": 1,
   "id": "20c85840-8922-423f-9111-fa7859474d5b",
   "metadata": {},
   "outputs": [
    {
     "ename": "SyntaxError",
     "evalue": "invalid syntax (2034791961.py, line 1)",
     "output_type": "error",
     "traceback": [
      "\u001b[1;36m  Cell \u001b[1;32mIn[1], line 1\u001b[1;36m\u001b[0m\n\u001b[1;33m    python3.10 --version\u001b[0m\n\u001b[1;37m           ^\u001b[0m\n\u001b[1;31mSyntaxError\u001b[0m\u001b[1;31m:\u001b[0m invalid syntax\n"
     ]
    }
   ],
   "source": [
    "python3.10 --version"
   ]
  },
  {
   "cell_type": "code",
   "execution_count": null,
   "id": "e224dbdc-4c77-4adf-ae12-55d7091ead40",
   "metadata": {},
   "outputs": [],
   "source": []
  },
  {
   "cell_type": "code",
   "execution_count": null,
   "id": "7b539add-bb42-4759-b815-7901b84cce01",
   "metadata": {},
   "outputs": [],
   "source": []
  }
 ],
 "metadata": {
  "kernelspec": {
   "display_name": "Python [conda env:base] *",
   "language": "python",
   "name": "conda-base-py"
  },
  "language_info": {
   "codemirror_mode": {
    "name": "ipython",
    "version": 3
   },
   "file_extension": ".py",
   "mimetype": "text/x-python",
   "name": "python",
   "nbconvert_exporter": "python",
   "pygments_lexer": "ipython3",
   "version": "3.12.7"
  }
 },
 "nbformat": 4,
 "nbformat_minor": 5
}
